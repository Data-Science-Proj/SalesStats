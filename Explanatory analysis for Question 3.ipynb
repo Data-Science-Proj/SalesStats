{
 "cells": [
  {
   "cell_type": "code",
   "execution_count": 1,
   "metadata": {},
   "outputs": [],
   "source": [
    "import pandas as pd\n",
    "import matplotlib.pyplot as plt\n",
    "import seaborn as sns"
   ]
  },
  {
   "cell_type": "code",
   "execution_count": 2,
   "metadata": {},
   "outputs": [],
   "source": [
    "data_df = pd.read_csv('/Users/MacBookPro1/Desktop/SalesStats/DatafinitiElectronicsProductData.csv')"
   ]
  },
  {
   "cell_type": "code",
   "execution_count": 12,
   "metadata": {},
   "outputs": [],
   "source": [
    "price_df = pd.read_json('https://raw.githubusercontent.com/BestBuyAPIs/open-data-set/master/products.json')"
   ]
  },
  {
   "cell_type": "code",
   "execution_count": 3,
   "metadata": {},
   "outputs": [
    {
     "data": {
      "text/plain": [
       "(7299, 27)"
      ]
     },
     "execution_count": 3,
     "metadata": {},
     "output_type": "execute_result"
    }
   ],
   "source": [
    "data_df.shape"
   ]
  },
  {
   "cell_type": "code",
   "execution_count": 4,
   "metadata": {},
   "outputs": [
    {
     "data": {
      "text/plain": [
       "Index(['id', 'asins', 'brand', 'categories', 'colors', 'dateAdded',\n",
       "       'dateUpdated', 'dimension', 'ean', 'imageURLs', 'keys', 'manufacturer',\n",
       "       'manufacturerNumber', 'name', 'primaryCategories', 'reviews.date',\n",
       "       'reviews.dateSeen', 'reviews.doRecommend', 'reviews.numHelpful',\n",
       "       'reviews.rating', 'reviews.sourceURLs', 'reviews.text', 'reviews.title',\n",
       "       'reviews.username', 'sourceURLs', 'upc', 'weight'],\n",
       "      dtype='object')"
      ]
     },
     "execution_count": 4,
     "metadata": {},
     "output_type": "execute_result"
    }
   ],
   "source": [
    "data_df.columns"
   ]
  },
  {
   "cell_type": "code",
   "execution_count": 5,
   "metadata": {},
   "outputs": [],
   "source": [
    "data_df = data_df.drop(columns=['id', 'asins','colors','dateAdded','dateUpdated','dimension', 'ean', 'imageURLs', 'keys','manufacturerNumber','reviews.date','reviews.sourceURLs','reviews.username', 'sourceURLs', 'upc', 'weight'])"
   ]
  },
  {
   "cell_type": "code",
   "execution_count": 6,
   "metadata": {},
   "outputs": [
    {
     "data": {
      "text/plain": [
       "Index(['brand', 'categories', 'manufacturer', 'name', 'primaryCategories',\n",
       "       'reviews.dateSeen', 'reviews.doRecommend', 'reviews.numHelpful',\n",
       "       'reviews.rating', 'reviews.text', 'reviews.title'],\n",
       "      dtype='object')"
      ]
     },
     "execution_count": 6,
     "metadata": {},
     "output_type": "execute_result"
    }
   ],
   "source": [
    "data_df.columns"
   ]
  },
  {
   "cell_type": "code",
   "execution_count": 28,
   "metadata": {},
   "outputs": [
    {
     "data": {
      "text/html": [
       "<div>\n",
       "<style scoped>\n",
       "    .dataframe tbody tr th:only-of-type {\n",
       "        vertical-align: middle;\n",
       "    }\n",
       "\n",
       "    .dataframe tbody tr th {\n",
       "        vertical-align: top;\n",
       "    }\n",
       "\n",
       "    .dataframe thead th {\n",
       "        text-align: right;\n",
       "    }\n",
       "</style>\n",
       "<table border=\"1\" class=\"dataframe\">\n",
       "  <thead>\n",
       "    <tr style=\"text-align: right;\">\n",
       "      <th></th>\n",
       "      <th>brand</th>\n",
       "      <th>categories</th>\n",
       "      <th>manufacturer</th>\n",
       "      <th>name</th>\n",
       "      <th>primaryCategories</th>\n",
       "      <th>reviews.dateSeen</th>\n",
       "      <th>reviews.doRecommend</th>\n",
       "      <th>reviews.numHelpful</th>\n",
       "      <th>reviews.rating</th>\n",
       "      <th>reviews.text</th>\n",
       "      <th>reviews.title</th>\n",
       "    </tr>\n",
       "  </thead>\n",
       "  <tbody>\n",
       "    <tr>\n",
       "      <th>0</th>\n",
       "      <td>Microsoft</td>\n",
       "      <td>Electronics,Computers,Computer Accessories,Key...</td>\n",
       "      <td>Microsoft</td>\n",
       "      <td>Microsoft Surface Pro 4 Type Cover with Finger...</td>\n",
       "      <td>Electronics</td>\n",
       "      <td>2017-09-03T00:00:00Z,2017-08-27T00:00:00Z,2017...</td>\n",
       "      <td>True</td>\n",
       "      <td>0.0</td>\n",
       "      <td>5.0</td>\n",
       "      <td>This keyboard is very easy to type on, but the...</td>\n",
       "      <td>Love the fingerprint reader</td>\n",
       "    </tr>\n",
       "    <tr>\n",
       "      <th>1</th>\n",
       "      <td>Microsoft</td>\n",
       "      <td>Electronics,Computers,Computer Accessories,Key...</td>\n",
       "      <td>Microsoft</td>\n",
       "      <td>Microsoft Surface Pro 4 Type Cover with Finger...</td>\n",
       "      <td>Electronics</td>\n",
       "      <td>2017-09-03T00:00:00Z,2017-08-27T00:00:00Z,2017...</td>\n",
       "      <td>True</td>\n",
       "      <td>0.0</td>\n",
       "      <td>4.0</td>\n",
       "      <td>It's thin and light. I can type pretty easily ...</td>\n",
       "      <td>Nice</td>\n",
       "    </tr>\n",
       "    <tr>\n",
       "      <th>2</th>\n",
       "      <td>Microsoft</td>\n",
       "      <td>Electronics,Computers,Computer Accessories,Key...</td>\n",
       "      <td>Microsoft</td>\n",
       "      <td>Microsoft Surface Pro 4 Type Cover with Finger...</td>\n",
       "      <td>Electronics</td>\n",
       "      <td>2017-09-03T00:00:00Z,2017-08-27T00:00:00Z,2017...</td>\n",
       "      <td>True</td>\n",
       "      <td>0.0</td>\n",
       "      <td>4.0</td>\n",
       "      <td>I love the new design the keys are spaced well...</td>\n",
       "      <td>New</td>\n",
       "    </tr>\n",
       "    <tr>\n",
       "      <th>3</th>\n",
       "      <td>Microsoft</td>\n",
       "      <td>Electronics,Computers,Computer Accessories,Key...</td>\n",
       "      <td>Microsoft</td>\n",
       "      <td>Microsoft Surface Pro 4 Type Cover with Finger...</td>\n",
       "      <td>Electronics</td>\n",
       "      <td>2017-09-03T00:00:00Z,2017-08-27T00:00:00Z,2017...</td>\n",
       "      <td>True</td>\n",
       "      <td>0.0</td>\n",
       "      <td>5.0</td>\n",
       "      <td>Attached easily and firmly. Has a nice feel. A...</td>\n",
       "      <td>Nice keyboard</td>\n",
       "    </tr>\n",
       "    <tr>\n",
       "      <th>4</th>\n",
       "      <td>Microsoft</td>\n",
       "      <td>Electronics,Computers,Computer Accessories,Key...</td>\n",
       "      <td>Microsoft</td>\n",
       "      <td>Microsoft Surface Pro 4 Type Cover with Finger...</td>\n",
       "      <td>Electronics</td>\n",
       "      <td>2017-09-03T00:00:00Z,2017-08-27T00:00:00Z,2017...</td>\n",
       "      <td>True</td>\n",
       "      <td>0.0</td>\n",
       "      <td>5.0</td>\n",
       "      <td>Our original keyboard was okay, but did not ha...</td>\n",
       "      <td>Nice improvement</td>\n",
       "    </tr>\n",
       "  </tbody>\n",
       "</table>\n",
       "</div>"
      ],
      "text/plain": [
       "       brand                                         categories manufacturer  \\\n",
       "0  Microsoft  Electronics,Computers,Computer Accessories,Key...    Microsoft   \n",
       "1  Microsoft  Electronics,Computers,Computer Accessories,Key...    Microsoft   \n",
       "2  Microsoft  Electronics,Computers,Computer Accessories,Key...    Microsoft   \n",
       "3  Microsoft  Electronics,Computers,Computer Accessories,Key...    Microsoft   \n",
       "4  Microsoft  Electronics,Computers,Computer Accessories,Key...    Microsoft   \n",
       "\n",
       "                                                name primaryCategories  \\\n",
       "0  Microsoft Surface Pro 4 Type Cover with Finger...       Electronics   \n",
       "1  Microsoft Surface Pro 4 Type Cover with Finger...       Electronics   \n",
       "2  Microsoft Surface Pro 4 Type Cover with Finger...       Electronics   \n",
       "3  Microsoft Surface Pro 4 Type Cover with Finger...       Electronics   \n",
       "4  Microsoft Surface Pro 4 Type Cover with Finger...       Electronics   \n",
       "\n",
       "                                    reviews.dateSeen reviews.doRecommend  \\\n",
       "0  2017-09-03T00:00:00Z,2017-08-27T00:00:00Z,2017...                True   \n",
       "1  2017-09-03T00:00:00Z,2017-08-27T00:00:00Z,2017...                True   \n",
       "2  2017-09-03T00:00:00Z,2017-08-27T00:00:00Z,2017...                True   \n",
       "3  2017-09-03T00:00:00Z,2017-08-27T00:00:00Z,2017...                True   \n",
       "4  2017-09-03T00:00:00Z,2017-08-27T00:00:00Z,2017...                True   \n",
       "\n",
       "   reviews.numHelpful  reviews.rating  \\\n",
       "0                 0.0             5.0   \n",
       "1                 0.0             4.0   \n",
       "2                 0.0             4.0   \n",
       "3                 0.0             5.0   \n",
       "4                 0.0             5.0   \n",
       "\n",
       "                                        reviews.text  \\\n",
       "0  This keyboard is very easy to type on, but the...   \n",
       "1  It's thin and light. I can type pretty easily ...   \n",
       "2  I love the new design the keys are spaced well...   \n",
       "3  Attached easily and firmly. Has a nice feel. A...   \n",
       "4  Our original keyboard was okay, but did not ha...   \n",
       "\n",
       "                 reviews.title  \n",
       "0  Love the fingerprint reader  \n",
       "1                         Nice  \n",
       "2                          New  \n",
       "3                Nice keyboard  \n",
       "4             Nice improvement  "
      ]
     },
     "execution_count": 28,
     "metadata": {},
     "output_type": "execute_result"
    }
   ],
   "source": [
    "data_df.head(5)"
   ]
  },
  {
   "cell_type": "code",
   "execution_count": 27,
   "metadata": {},
   "outputs": [],
   "source": [
    "mask = data_df['reviews.rating'] == 5.0\n",
    "brand_df = data_df.loc[mask]\n",
    "#brand_df"
   ]
  },
  {
   "cell_type": "code",
   "execution_count": 20,
   "metadata": {},
   "outputs": [],
   "source": [
    "data_duplrem = data_df.drop_duplicates('brand')\n",
    "## data_duplrem['brand']"
   ]
  },
  {
   "cell_type": "code",
   "execution_count": 13,
   "metadata": {},
   "outputs": [
    {
     "data": {
      "text/plain": [
       "(51646, 12)"
      ]
     },
     "execution_count": 13,
     "metadata": {},
     "output_type": "execute_result"
    }
   ],
   "source": [
    "price_df.shape"
   ]
  },
  {
   "cell_type": "code",
   "execution_count": 14,
   "metadata": {},
   "outputs": [
    {
     "data": {
      "text/plain": [
       "Index(['category', 'description', 'image', 'manufacturer', 'model', 'name',\n",
       "       'price', 'shipping', 'sku', 'type', 'upc', 'url'],\n",
       "      dtype='object')"
      ]
     },
     "execution_count": 14,
     "metadata": {},
     "output_type": "execute_result"
    }
   ],
   "source": [
    "price_df.columns"
   ]
  },
  {
   "cell_type": "code",
   "execution_count": 15,
   "metadata": {},
   "outputs": [],
   "source": [
    "price_df = price_df.drop(columns=['image','url','upc','sku','category'])"
   ]
  },
  {
   "cell_type": "code",
   "execution_count": 26,
   "metadata": {},
   "outputs": [
    {
     "data": {
      "text/html": [
       "<div>\n",
       "<style scoped>\n",
       "    .dataframe tbody tr th:only-of-type {\n",
       "        vertical-align: middle;\n",
       "    }\n",
       "\n",
       "    .dataframe tbody tr th {\n",
       "        vertical-align: top;\n",
       "    }\n",
       "\n",
       "    .dataframe thead th {\n",
       "        text-align: right;\n",
       "    }\n",
       "</style>\n",
       "<table border=\"1\" class=\"dataframe\">\n",
       "  <thead>\n",
       "    <tr style=\"text-align: right;\">\n",
       "      <th></th>\n",
       "      <th>description</th>\n",
       "      <th>brand</th>\n",
       "      <th>model</th>\n",
       "      <th>name</th>\n",
       "      <th>price</th>\n",
       "      <th>shipping</th>\n",
       "      <th>type</th>\n",
       "    </tr>\n",
       "  </thead>\n",
       "  <tbody>\n",
       "    <tr>\n",
       "      <th>0</th>\n",
       "      <td>Compatible with select electronic devices; AAA...</td>\n",
       "      <td>Duracell</td>\n",
       "      <td>MN2400B4Z</td>\n",
       "      <td>Duracell - AAA Batteries (4-Pack)</td>\n",
       "      <td>5.49</td>\n",
       "      <td>5.49</td>\n",
       "      <td>HardGood</td>\n",
       "    </tr>\n",
       "    <tr>\n",
       "      <th>1</th>\n",
       "      <td>Long-lasting energy; DURALOCK Power Preserve t...</td>\n",
       "      <td>Duracell</td>\n",
       "      <td>MN1500B4Z</td>\n",
       "      <td>Duracell - AA 1.5V CopperTop Batteries (4-Pack)</td>\n",
       "      <td>5.49</td>\n",
       "      <td>5.49</td>\n",
       "      <td>HardGood</td>\n",
       "    </tr>\n",
       "    <tr>\n",
       "      <th>2</th>\n",
       "      <td>Compatible with select electronic devices; AA ...</td>\n",
       "      <td>Duracell</td>\n",
       "      <td>MN1500B8Z</td>\n",
       "      <td>Duracell - AA Batteries (8-Pack)</td>\n",
       "      <td>7.49</td>\n",
       "      <td>5.49</td>\n",
       "      <td>HardGood</td>\n",
       "    </tr>\n",
       "    <tr>\n",
       "      <th>3</th>\n",
       "      <td>4-pack AA alkaline batteries; battery tester i...</td>\n",
       "      <td>Energizer</td>\n",
       "      <td>E91BP-4</td>\n",
       "      <td>Energizer - MAX Batteries AA (4-Pack)</td>\n",
       "      <td>4.99</td>\n",
       "      <td>5.49</td>\n",
       "      <td>HardGood</td>\n",
       "    </tr>\n",
       "    <tr>\n",
       "      <th>4</th>\n",
       "      <td>Compatible with select electronic devices; C s...</td>\n",
       "      <td>Duracell</td>\n",
       "      <td>MN1400R4Z</td>\n",
       "      <td>Duracell - C Batteries (4-Pack)</td>\n",
       "      <td>8.99</td>\n",
       "      <td>5.49</td>\n",
       "      <td>HardGood</td>\n",
       "    </tr>\n",
       "  </tbody>\n",
       "</table>\n",
       "</div>"
      ],
      "text/plain": [
       "                                         description      brand      model  \\\n",
       "0  Compatible with select electronic devices; AAA...   Duracell  MN2400B4Z   \n",
       "1  Long-lasting energy; DURALOCK Power Preserve t...   Duracell  MN1500B4Z   \n",
       "2  Compatible with select electronic devices; AA ...   Duracell  MN1500B8Z   \n",
       "3  4-pack AA alkaline batteries; battery tester i...  Energizer    E91BP-4   \n",
       "4  Compatible with select electronic devices; C s...   Duracell  MN1400R4Z   \n",
       "\n",
       "                                              name  price shipping      type  \n",
       "0                Duracell - AAA Batteries (4-Pack)   5.49     5.49  HardGood  \n",
       "1  Duracell - AA 1.5V CopperTop Batteries (4-Pack)   5.49     5.49  HardGood  \n",
       "2                 Duracell - AA Batteries (8-Pack)   7.49     5.49  HardGood  \n",
       "3            Energizer - MAX Batteries AA (4-Pack)   4.99     5.49  HardGood  \n",
       "4                  Duracell - C Batteries (4-Pack)   8.99     5.49  HardGood  "
      ]
     },
     "execution_count": 26,
     "metadata": {},
     "output_type": "execute_result"
    }
   ],
   "source": [
    "price_df.head(5)"
   ]
  },
  {
   "cell_type": "code",
   "execution_count": 17,
   "metadata": {},
   "outputs": [],
   "source": [
    "price_df = price_df.rename(columns={'manufacturer': 'brand'})"
   ]
  },
  {
   "cell_type": "code",
   "execution_count": 18,
   "metadata": {},
   "outputs": [
    {
     "data": {
      "text/plain": [
       "Index(['description', 'brand', 'model', 'name', 'price', 'shipping', 'type'], dtype='object')"
      ]
     },
     "execution_count": 18,
     "metadata": {},
     "output_type": "execute_result"
    }
   ],
   "source": [
    "price_df.columns"
   ]
  },
  {
   "cell_type": "code",
   "execution_count": 22,
   "metadata": {},
   "outputs": [],
   "source": [
    "price_duplrem = price_df.drop_duplicates('brand')\n",
    "#price_duplrem = ('brand')"
   ]
  },
  {
   "cell_type": "code",
   "execution_count": 24,
   "metadata": {},
   "outputs": [
    {
     "name": "stdout",
     "output_type": "stream",
     "text": [
      "[price    196.404661\n",
      "dtype: float64, price    41.954286\n",
      "dtype: float64, price    158.163739\n",
      "dtype: float64, price    469.744265\n",
      "dtype: float64, price    471.256211\n",
      "dtype: float64, price    831.13711\n",
      "dtype: float64, price    80.367907\n",
      "dtype: float64, price    510.032736\n",
      "dtype: float64, price    346.865139\n",
      "dtype: float64, price    521.521122\n",
      "dtype: float64]\n"
     ]
    }
   ],
   "source": [
    "brands = ['Microsoft', 'iHome','JBL', 'Yamaha','Sony','Samsung', 'Logitech','Lenovo','Toshiba','Dell']\n",
    "def get_brand_price_mean():\n",
    "    average_price_brand=[0,0,0,0,0,0,0,0,0,0]\n",
    "    for i in range(len(brands)):\n",
    "        mask = price_df['brand'] == brands[i]\n",
    "        brand_df = price_df.loc[mask].mean()\n",
    "        average_price_brand[i]=brand_df\n",
    "    return average_price_brand\n",
    "\n",
    "print(get_brand_price_mean())"
   ]
  },
  {
   "cell_type": "code",
   "execution_count": 25,
   "metadata": {},
   "outputs": [
    {
     "data": {
      "image/png": "[encoded data removed]",
      "text/plain": [
       "<Figure size 720x360 with 1 Axes>"
      ]
     },
     "metadata": {},
     "output_type": "display_data"
    }
   ],
   "source": [
    "plt.figure(figsize=(10,5))\n",
    "sns.barplot(brands,get_brand_price_mean())\n",
    "plt.title('Average Price of Top 10 Brands')\n",
    "plt.ylabel('Average Price', fontsize=15)\n",
    "plt.xlabel('Brand Name', fontsize=15)\n",
    "plt.show()"
   ]
  },
  {
   "cell_type": "code",
   "execution_count": null,
   "metadata": {},
   "outputs": [],
   "source": []
  }
 ],
 "metadata": {
  "kernelspec": {
   "display_name": "Python 3",
   "language": "python",
   "name": "python3"
  },
  "language_info": {
   "codemirror_mode": {
    "name": "ipython",
    "version": 3
   },
   "file_extension": ".py",
   "mimetype": "text/x-python",
   "name": "python",
   "nbconvert_exporter": "python",
   "pygments_lexer": "ipython3",
   "version": "3.6.5"
  }
 },
 "nbformat": 4,
 "nbformat_minor": 2
}
